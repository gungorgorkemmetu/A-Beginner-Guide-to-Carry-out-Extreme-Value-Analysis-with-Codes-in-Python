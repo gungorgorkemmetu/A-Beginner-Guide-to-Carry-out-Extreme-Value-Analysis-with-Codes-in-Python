{
 "cells": [
  {
   "cell_type": "markdown",
   "metadata": {},
   "source": [
    "# A Beginner’s Guide to Carry out Extreme Value Analysis (with Codes in Python)-(1) Basic"
   ]
  },
  {
   "cell_type": "markdown",
   "metadata": {},
   "source": [
    "## Introduction"
   ]
  },
  {
   "cell_type": "markdown",
   "metadata": {},
   "source": [
    "Extreme value analysis (EVA) is a process that is used primarily to estimate of the probability of events that are more extreme than any previously observed. It is widely applied in many fields such as engineering, meteorology, hydrology, finance and ocean, etc.\n",
    "\n",
    "The following presents basic steps to carry out EVA upond a time series data of interest based on open source python packages.   "
   ]
  },
  {
   "cell_type": "markdown",
   "metadata": {},
   "source": [
    "## 1. Download Data"
   ]
  },
  {
   "cell_type": "markdown",
   "metadata": {},
   "source": [
    "Download station data from https://www.ncdc.noaa.gov/. \n",
    "Here the daily summaries were downloaded using ghcnpy (https://github.com/jjrennie/GHCNpy).\n",
    "\n",
    "An example is used as demo from the station of Dubai Internatinal Airport."
   ]
  },
  {
   "cell_type": "markdown",
   "metadata": {},
   "source": [
    "* Firstly, check stations available in Dubai"
   ]
  },
  {
   "cell_type": "code",
   "execution_count": 1,
   "metadata": {},
   "outputs": [
    {
     "name": "stdout",
     "output_type": "stream",
     "text": [
      "LOOKUP BY STATION NAME:  Ankara\n",
      "\n",
      "GRABBING LATEST STATION METADATA FILE\n",
      "GHCND ID          LAT        LON    ELEV  ST       STATION NAME\n",
      "###############################################################\n",
      "AJ000037985   38.7500    48.8170   -12.0      LANKARAN                      \n",
      "IN020021900   11.8800    78.9200   198.0      SANKARAPURAM                  \n",
      "IN020051001   12.2500    78.5500   366.0      UTHANKARAI                    \n",
      "IN020141100    9.1700    77.5500   152.0      SANKARANKOIL                  \n",
      "TUM00017130   39.9500    32.8830   891.0      ANKARA/CENTRAL                \n"
     ]
    }
   ],
   "source": [
    "import ghcnpy as gp\n",
    "\n",
    "# from past.builtins import xrange\n",
    "\n",
    "gp.find_station(\"Ankara\")"
   ]
  },
  {
   "cell_type": "markdown",
   "metadata": {},
   "source": [
    "* Secondly, download data in csv format after finding the target station ID"
   ]
  },
  {
   "cell_type": "code",
   "execution_count": 2,
   "metadata": {},
   "outputs": [
    {
     "name": "stdout",
     "output_type": "stream",
     "text": [
      "\n",
      "OUTPUTTING TO CSV:  TUM00017130 .csv\n",
      "\n",
      "GETTING DATA FOR STATION:  TUM00017130\n"
     ]
    }
   ],
   "source": [
    "gp.output_to_csv(\"TUM00017130\")"
   ]
  },
  {
   "cell_type": "markdown",
   "metadata": {},
   "source": [
    "## 2. Load and Handle Time Series in Pandas"
   ]
  },
  {
   "cell_type": "markdown",
   "metadata": {},
   "source": [
    "Pandas has dedicated libraries for handling time series(TS) objects, particularly the datatime64[ns] class which stores time information and allows us to perform some operations really fast. Lets start by firing up the required libraries:"
   ]
  },
  {
   "cell_type": "code",
   "execution_count": 2,
   "metadata": {},
   "outputs": [],
   "source": [
    "import pandas as pd\n",
    "import numpy as np\n",
    "import matplotlib.pylab as plt\n",
    "\n",
    "%matplotlib inline\n",
    "from matplotlib.pylab import rcParams\n",
    "rcParams['figure.figsize'] = 15, 6"
   ]
  },
  {
   "cell_type": "markdown",
   "metadata": {},
   "source": [
    "#### load the data set and look at some initial rows and data types of the columns:"
   ]
  },
  {
   "cell_type": "code",
   "execution_count": 3,
   "metadata": {
    "scrolled": true
   },
   "outputs": [],
   "source": [
    "data = pd.read_csv('TUM00017130.csv')\n",
    "# print data.tail()\n",
    "# print '\\n Data Types:'\n",
    "# print data.dtypes"
   ]
  },
  {
   "cell_type": "code",
   "execution_count": 4,
   "metadata": {},
   "outputs": [
    {
     "data": {
      "text/html": [
       "<div>\n",
       "<style scoped>\n",
       "    .dataframe tbody tr th:only-of-type {\n",
       "        vertical-align: middle;\n",
       "    }\n",
       "\n",
       "    .dataframe tbody tr th {\n",
       "        vertical-align: top;\n",
       "    }\n",
       "\n",
       "    .dataframe thead th {\n",
       "        text-align: right;\n",
       "    }\n",
       "</style>\n",
       "<table border=\"1\" class=\"dataframe\">\n",
       "  <thead>\n",
       "    <tr style=\"text-align: right;\">\n",
       "      <th></th>\n",
       "      <th>YYYY</th>\n",
       "      <th>MM</th>\n",
       "      <th>DD</th>\n",
       "      <th>TMAX</th>\n",
       "      <th>TMIN</th>\n",
       "      <th>PRCP</th>\n",
       "      <th>SNOW</th>\n",
       "      <th>SNWD</th>\n",
       "    </tr>\n",
       "  </thead>\n",
       "  <tbody>\n",
       "    <tr>\n",
       "      <th>4475</th>\n",
       "      <td>2025</td>\n",
       "      <td>2</td>\n",
       "      <td>20</td>\n",
       "      <td>0.7</td>\n",
       "      <td>-9999.0</td>\n",
       "      <td>0.5</td>\n",
       "      <td>-9999.0</td>\n",
       "      <td>-9999.0</td>\n",
       "    </tr>\n",
       "    <tr>\n",
       "      <th>4476</th>\n",
       "      <td>2025</td>\n",
       "      <td>2</td>\n",
       "      <td>21</td>\n",
       "      <td>-0.5</td>\n",
       "      <td>-7.7</td>\n",
       "      <td>0.0</td>\n",
       "      <td>-9999.0</td>\n",
       "      <td>-9999.0</td>\n",
       "    </tr>\n",
       "    <tr>\n",
       "      <th>4477</th>\n",
       "      <td>2025</td>\n",
       "      <td>2</td>\n",
       "      <td>22</td>\n",
       "      <td>-0.9</td>\n",
       "      <td>-7.7</td>\n",
       "      <td>0.0</td>\n",
       "      <td>-9999.0</td>\n",
       "      <td>-9999.0</td>\n",
       "    </tr>\n",
       "    <tr>\n",
       "      <th>4478</th>\n",
       "      <td>2025</td>\n",
       "      <td>2</td>\n",
       "      <td>23</td>\n",
       "      <td>-0.9</td>\n",
       "      <td>-8.8</td>\n",
       "      <td>0.0</td>\n",
       "      <td>-9999.0</td>\n",
       "      <td>-9999.0</td>\n",
       "    </tr>\n",
       "    <tr>\n",
       "      <th>4479</th>\n",
       "      <td>2025</td>\n",
       "      <td>2</td>\n",
       "      <td>24</td>\n",
       "      <td>0.3</td>\n",
       "      <td>-8.7</td>\n",
       "      <td>0.0</td>\n",
       "      <td>-9999.0</td>\n",
       "      <td>-9999.0</td>\n",
       "    </tr>\n",
       "  </tbody>\n",
       "</table>\n",
       "</div>"
      ],
      "text/plain": [
       "      YYYY  MM  DD  TMAX    TMIN  PRCP    SNOW    SNWD\n",
       "4475  2025   2  20   0.7 -9999.0   0.5 -9999.0 -9999.0\n",
       "4476  2025   2  21  -0.5    -7.7   0.0 -9999.0 -9999.0\n",
       "4477  2025   2  22  -0.9    -7.7   0.0 -9999.0 -9999.0\n",
       "4478  2025   2  23  -0.9    -8.8   0.0 -9999.0 -9999.0\n",
       "4479  2025   2  24   0.3    -8.7   0.0 -9999.0 -9999.0"
      ]
     },
     "execution_count": 4,
     "metadata": {},
     "output_type": "execute_result"
    }
   ],
   "source": [
    "data.tail()"
   ]
  },
  {
   "cell_type": "code",
   "execution_count": 5,
   "metadata": {},
   "outputs": [
    {
     "data": {
      "text/html": [
       "<div>\n",
       "<style scoped>\n",
       "    .dataframe tbody tr th:only-of-type {\n",
       "        vertical-align: middle;\n",
       "    }\n",
       "\n",
       "    .dataframe tbody tr th {\n",
       "        vertical-align: top;\n",
       "    }\n",
       "\n",
       "    .dataframe thead th {\n",
       "        text-align: right;\n",
       "    }\n",
       "</style>\n",
       "<table border=\"1\" class=\"dataframe\">\n",
       "  <thead>\n",
       "    <tr style=\"text-align: right;\">\n",
       "      <th></th>\n",
       "      <th>YYYY</th>\n",
       "      <th>MM</th>\n",
       "      <th>DD</th>\n",
       "      <th>TMAX</th>\n",
       "      <th>TMIN</th>\n",
       "      <th>PRCP</th>\n",
       "      <th>SNOW</th>\n",
       "      <th>SNWD</th>\n",
       "    </tr>\n",
       "  </thead>\n",
       "  <tbody>\n",
       "    <tr>\n",
       "      <th>0</th>\n",
       "      <td>2002</td>\n",
       "      <td>12</td>\n",
       "      <td>31</td>\n",
       "      <td>10.5</td>\n",
       "      <td>2.8</td>\n",
       "      <td>0.0</td>\n",
       "      <td>-9999.0</td>\n",
       "      <td>-9999.0</td>\n",
       "    </tr>\n",
       "    <tr>\n",
       "      <th>1</th>\n",
       "      <td>2003</td>\n",
       "      <td>1</td>\n",
       "      <td>1</td>\n",
       "      <td>9.6</td>\n",
       "      <td>2.5</td>\n",
       "      <td>-9999.0</td>\n",
       "      <td>-9999.0</td>\n",
       "      <td>-9999.0</td>\n",
       "    </tr>\n",
       "    <tr>\n",
       "      <th>2</th>\n",
       "      <td>2003</td>\n",
       "      <td>1</td>\n",
       "      <td>2</td>\n",
       "      <td>-9999.0</td>\n",
       "      <td>4.2</td>\n",
       "      <td>-9999.0</td>\n",
       "      <td>-9999.0</td>\n",
       "      <td>-9999.0</td>\n",
       "    </tr>\n",
       "    <tr>\n",
       "      <th>3</th>\n",
       "      <td>2003</td>\n",
       "      <td>1</td>\n",
       "      <td>3</td>\n",
       "      <td>8.8</td>\n",
       "      <td>2.3</td>\n",
       "      <td>0.0</td>\n",
       "      <td>-9999.0</td>\n",
       "      <td>-9999.0</td>\n",
       "    </tr>\n",
       "    <tr>\n",
       "      <th>4</th>\n",
       "      <td>2003</td>\n",
       "      <td>1</td>\n",
       "      <td>4</td>\n",
       "      <td>9.6</td>\n",
       "      <td>5.4</td>\n",
       "      <td>2.5</td>\n",
       "      <td>-9999.0</td>\n",
       "      <td>-9999.0</td>\n",
       "    </tr>\n",
       "  </tbody>\n",
       "</table>\n",
       "</div>"
      ],
      "text/plain": [
       "   YYYY  MM  DD    TMAX  TMIN    PRCP    SNOW    SNWD\n",
       "0  2002  12  31    10.5   2.8     0.0 -9999.0 -9999.0\n",
       "1  2003   1   1     9.6   2.5 -9999.0 -9999.0 -9999.0\n",
       "2  2003   1   2 -9999.0   4.2 -9999.0 -9999.0 -9999.0\n",
       "3  2003   1   3     8.8   2.3     0.0 -9999.0 -9999.0\n",
       "4  2003   1   4     9.6   5.4     2.5 -9999.0 -9999.0"
      ]
     },
     "execution_count": 5,
     "metadata": {},
     "output_type": "execute_result"
    }
   ],
   "source": [
    "data.head()"
   ]
  },
  {
   "cell_type": "markdown",
   "metadata": {},
   "source": [
    "#### Select annual maxima as extreme values"
   ]
  },
  {
   "cell_type": "code",
   "execution_count": 6,
   "metadata": {
    "scrolled": true
   },
   "outputs": [
    {
     "data": {
      "text/plain": [
       "[<matplotlib.lines.Line2D at 0x7f6050df2d00>]"
      ]
     },
     "execution_count": 6,
     "metadata": {},
     "output_type": "execute_result"
    },
    {
     "data": {
      "image/png": "[encoded data removed]",
      "text/plain": [
       "<Figure size 1500x600 with 1 Axes>"
      ]
     },
     "metadata": {},
     "output_type": "display_data"
    }
   ],
   "source": [
    "df = data.groupby(\"YYYY\").PRCP.max()\n",
    "plt.plot(df)"
   ]
  },
  {
   "cell_type": "markdown",
   "metadata": {},
   "source": [
    "## 3. GEV Analysis"
   ]
  },
  {
   "cell_type": "markdown",
   "metadata": {},
   "source": [
    "The Python version of L-moments is used to predict optimal parameters for a number of distributions (https://pypi.python.org/pypi/lmoments/). \n",
    "\n",
    "Distributions supported are listed below, with their distribution suffix:\n",
    "* Exponential (EXP)\n",
    "* Gamma (GAM)\n",
    "* Generalised Extreme Value (GEV)\n",
    "* Generalised Logistic (GLO)\n",
    "* Generalised Normal (GNO)\n",
    "* Generalised Pareto (GPA)\n",
    "* Gumbel (GUM)\n",
    "* Kappa (KAP)\n",
    "* Normal (NOR)\n",
    "* Pearson III (PE3)\n",
    "* Wakeby (WAK)\n",
    "* Weibull (WEI)\n",
    "    \n",
    "lmoments can be installed by\n",
    " * conda install lmoments\n",
    " * pip install lmoments\n",
    " \n",
    " \n",
    "As a demo, only the Generalised Extreme Value (GEV) distribution is used here."
   ]
  },
  {
   "cell_type": "markdown",
   "metadata": {},
   "source": [
    "### Import lmoments to carry out GEV analysis"
   ]
  },
  {
   "cell_type": "code",
   "execution_count": 7,
   "metadata": {},
   "outputs": [],
   "source": [
    "import lmoments3 as lmoments"
   ]
  },
  {
   "cell_type": "markdown",
   "metadata": {},
   "source": [
    "### Calculate moments"
   ]
  },
  {
   "cell_type": "code",
   "execution_count": 8,
   "metadata": {},
   "outputs": [
    {
     "ename": "NameError",
     "evalue": "name 'LMU' is not defined",
     "output_type": "error",
     "traceback": [
      "\u001b[0;31m---------------------------------------------------------------------------\u001b[0m",
      "\u001b[0;31mNameError\u001b[0m                                 Traceback (most recent call last)",
      "Cell \u001b[0;32mIn[8], line 2\u001b[0m\n\u001b[1;32m      1\u001b[0m \u001b[38;5;66;03m# LMU = lmoments.samlmu(df)\u001b[39;00m\n\u001b[0;32m----> 2\u001b[0m \u001b[43mLMU\u001b[49m\n",
      "\u001b[0;31mNameError\u001b[0m: name 'LMU' is not defined"
     ]
    }
   ],
   "source": [
    "# LMU = lmoments.samlmu(df)\n",
    "LMU"
   ]
  },
  {
   "cell_type": "code",
   "execution_count": 9,
   "metadata": {},
   "outputs": [],
   "source": [
    "LMU = lmoments.lmom_ratios(df)"
   ]
  },
  {
   "cell_type": "code",
   "execution_count": 10,
   "metadata": {},
   "outputs": [
    {
     "data": {
      "text/plain": [
       "\u001b[0;31mSignature:\u001b[0m \u001b[0mlmoments\u001b[0m\u001b[0;34m.\u001b[0m\u001b[0mlmom_ratios\u001b[0m\u001b[0;34m(\u001b[0m\u001b[0mdata\u001b[0m\u001b[0;34m,\u001b[0m \u001b[0mnmom\u001b[0m\u001b[0;34m=\u001b[0m\u001b[0;36m5\u001b[0m\u001b[0;34m)\u001b[0m\u001b[0;34m\u001b[0m\u001b[0;34m\u001b[0m\u001b[0m\n",
       "\u001b[0;31mDocstring:\u001b[0m\n",
       "Estimate `nmom` number of L-moments from a sample `data`.\n",
       "\n",
       ":param data: Sequence of (sample) data\n",
       ":type data: list or array-like sequence\n",
       ":param nmom: number of L-moments to estimate\n",
       ":type nmom: int\n",
       ":return: L-moment ratios like this: l1, l2, t3, t4, t5, .. . As in: items 3 and higher are L-moment ratios.  # noqa: E501\n",
       ":rtype: list\n",
       "\u001b[0;31mFile:\u001b[0m      ~/miniconda3/envs/message_env/lib/python3.8/site-packages/lmoments3/__init__.py\n",
       "\u001b[0;31mType:\u001b[0m      function"
      ]
     },
     "metadata": {},
     "output_type": "display_data"
    }
   ],
   "source": [
    "lmoments.lmom_ratios?"
   ]
  },
  {
   "cell_type": "markdown",
   "metadata": {},
   "source": [
    "### Fit GEV distribution"
   ]
  },
  {
   "cell_type": "code",
   "execution_count": 11,
   "metadata": {},
   "outputs": [],
   "source": [
    "#gevfit = lmoments.pelgev(LMU)\n",
    "from lmoments3 import distr"
   ]
  },
  {
   "cell_type": "code",
   "execution_count": 12,
   "metadata": {},
   "outputs": [],
   "source": [
    "gevfit = distr.gev.lmom_fit(LMU)"
   ]
  },
  {
   "cell_type": "code",
   "execution_count": 13,
   "metadata": {},
   "outputs": [
    {
     "data": {
      "text/plain": [
       "OrderedDict([('c', -0.6745415014970968),\n",
       "             ('loc', 0.7635738996874339),\n",
       "             ('scale', 2.70317957727397)])"
      ]
     },
     "execution_count": 13,
     "metadata": {},
     "output_type": "execute_result"
    }
   ],
   "source": [
    "gevfit"
   ]
  },
  {
   "cell_type": "code",
   "execution_count": 14,
   "metadata": {},
   "outputs": [],
   "source": [
    "fitted_gev = distr.gev(**gevfit)"
   ]
  },
  {
   "cell_type": "code",
   "execution_count": 15,
   "metadata": {},
   "outputs": [
    {
     "data": {
      "text/plain": [
       "\u001b[0;31mSignature:\u001b[0m      \u001b[0mdistr\u001b[0m\u001b[0;34m.\u001b[0m\u001b[0mgev\u001b[0m\u001b[0;34m(\u001b[0m\u001b[0;34m*\u001b[0m\u001b[0margs\u001b[0m\u001b[0;34m,\u001b[0m \u001b[0;34m**\u001b[0m\u001b[0mkwds\u001b[0m\u001b[0;34m)\u001b[0m\u001b[0;34m\u001b[0m\u001b[0;34m\u001b[0m\u001b[0m\n",
       "\u001b[0;31mType:\u001b[0m           GenextremeGen\n",
       "\u001b[0;31mString form:\u001b[0m    <lmoments3.distr.GenextremeGen object at 0x7f6041c685b0>\n",
       "\u001b[0;31mFile:\u001b[0m           ~/miniconda3/envs/message_env/lib/python3.8/site-packages/lmoments3/distr.py\n",
       "\u001b[0;31mDocstring:\u001b[0m      Generalized Extreme Value distribution with L-moment methods.\n",
       "\u001b[0;31mCall docstring:\u001b[0m\n",
       "Freeze the distribution for the given arguments.\n",
       "\n",
       "Parameters\n",
       "----------\n",
       "arg1, arg2, arg3,... : array_like\n",
       "    The shape parameter(s) for the distribution.  Should include all\n",
       "    the non-optional arguments, may include ``loc`` and ``scale``.\n",
       "\n",
       "Returns\n",
       "-------\n",
       "rv_frozen : rv_frozen instance\n",
       "    The frozen distribution."
      ]
     },
     "metadata": {},
     "output_type": "display_data"
    }
   ],
   "source": [
    "distr.gev?"
   ]
  },
  {
   "cell_type": "code",
   "execution_count": 16,
   "metadata": {},
   "outputs": [
    {
     "data": {
      "text/plain": [
       "1.887543527385832"
      ]
     },
     "execution_count": 16,
     "metadata": {},
     "output_type": "execute_result"
    }
   ],
   "source": [
    "fitted_gev.median()"
   ]
  },
  {
   "cell_type": "markdown",
   "metadata": {},
   "source": [
    "### Set some return years, and convert them into probabilities. \n",
    "Finally, get extreme values corresponding to these probabilities."
   ]
  },
  {
   "cell_type": "code",
   "execution_count": 17,
   "metadata": {},
   "outputs": [
    {
     "name": "stdout",
     "output_type": "stream",
     "text": [
      "0.5\n",
      "0.8\n",
      "0.9\n",
      "0.95\n",
      "0.98\n",
      "0.99\n",
      "0.995\n",
      "0.998\n",
      "0.999\n"
     ]
    }
   ],
   "source": [
    "avi  = [2,5,10,20,50,100,200,500,1000];\n",
    "\n",
    "pavi = np.empty(len(avi))\n",
    "for i in range(len(avi)):\n",
    "    pavi[i] = 1.0-1.0 / avi[i]\n",
    "    print(pavi[i])\n",
    "\n",
    "# gevqua = lmoments.quagev(pavi, gevfit)\n",
    "# gevqua = distr.gev.fit(pavi, gevfit)"
   ]
  },
  {
   "cell_type": "code",
   "execution_count": 18,
   "metadata": {},
   "outputs": [
    {
     "data": {
      "text/plain": [
       "array([  1.88754353,   7.77846399,  15.04179744,  26.47169914,\n",
       "        52.46673601,  85.97945273, 139.40639439, 261.69173428,\n",
       "       419.75986577])"
      ]
     },
     "execution_count": 18,
     "metadata": {},
     "output_type": "execute_result"
    }
   ],
   "source": [
    "fitted_gev.ppf(pavi)"
   ]
  },
  {
   "cell_type": "markdown",
   "metadata": {},
   "source": [
    "### Have a check \n",
    "The first one uses a log transformation of returen years."
   ]
  },
  {
   "cell_type": "code",
   "execution_count": 19,
   "metadata": {},
   "outputs": [
    {
     "data": {
      "text/plain": [
       "Text(0.5, 1.0, 'GEV Distribution')"
      ]
     },
     "execution_count": 19,
     "metadata": {},
     "output_type": "execute_result"
    },
    {
     "data": {
      "image/png": "[encoded data removed]",
      "text/plain": [
       "<Figure size 1500x600 with 1 Axes>"
      ]
     },
     "metadata": {},
     "output_type": "display_data"
    }
   ],
   "source": [
    "plt.plot(avi,fitted_gev.ppf(pavi))\n",
    "plt.xscale('log')\n",
    "plt.xlabel('Log (Average Return Interval in Year)')\n",
    "plt.ylabel('TMAX')\n",
    "plt.title(\"GEV Distribution\")\n"
   ]
  },
  {
   "cell_type": "markdown",
   "metadata": {},
   "source": [
    "The second one used the return years, directly"
   ]
  },
  {
   "cell_type": "code",
   "execution_count": 20,
   "metadata": {},
   "outputs": [
    {
     "data": {
      "text/plain": [
       "Text(0.5, 1.0, 'GEV Distribution')"
      ]
     },
     "execution_count": 20,
     "metadata": {},
     "output_type": "execute_result"
    },
    {
     "data": {
      "image/png": "[encoded data removed]",
      "text/plain": [
       "<Figure size 1500x600 with 1 Axes>"
      ]
     },
     "metadata": {},
     "output_type": "display_data"
    }
   ],
   "source": [
    "plt.plot(avi,fitted_gev.ppf(pavi))\n",
    "\n",
    "plt.ylabel('TMAX')\n",
    "plt.xlabel('Average Return Interval (Year)')\n",
    "plt.ylabel('TMAX')\n",
    "plt.title(\"GEV Distribution\")"
   ]
  },
  {
   "cell_type": "markdown",
   "metadata": {},
   "source": [
    "## End Notes"
   ]
  },
  {
   "cell_type": "markdown",
   "metadata": {},
   "source": [
    "Through this guide I have tried to give you a basic idea how to carry out extreme value analysis (EVA) upon a time series data of interest.\n",
    "\n",
    "In fact, the analysis will become more complicated in a real practice as high quality data are not always available. Sometimes, you have to spend a lot of time cleaning the data. For example, fill the missing values and check outliers.\n",
    "\n",
    "In addition, carrying out EVA always fits several distributions, simultaneouly. Then a goodness-of-fit measure (e.g., Anderson-Darling test) is used to select the optimal one.\n",
    "\n",
    "This is just a start. You can try more.\n"
   ]
  },
  {
   "cell_type": "code",
   "execution_count": null,
   "metadata": {
    "collapsed": true,
    "jupyter": {
     "outputs_hidden": true
    }
   },
   "outputs": [],
   "source": []
  }
 ],
 "metadata": {
  "anaconda-cloud": {},
  "kernelspec": {
   "display_name": "Python 3 (ipykernel)",
   "language": "python",
   "name": "python3"
  },
  "language_info": {
   "codemirror_mode": {
    "name": "ipython",
    "version": 3
   },
   "file_extension": ".py",
   "mimetype": "text/x-python",
   "name": "python",
   "nbconvert_exporter": "python",
   "pygments_lexer": "ipython3",
   "version": "3.8.20"
  }
 },
 "nbformat": 4,
 "nbformat_minor": 4
}
